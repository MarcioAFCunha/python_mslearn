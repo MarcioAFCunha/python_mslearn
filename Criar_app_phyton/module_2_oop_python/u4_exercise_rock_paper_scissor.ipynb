{
 "cells": [
  {
   "cell_type": "markdown",
   "metadata": {},
   "source": [
    "### Analisar pedra, papel e tesoura para a modelagem OOP\n",
    "Este exercício é um exercício de modelagem. Você receberá uma descrição do domínio do problema. Em seguida, deverá retirar as palavras-chave importantes do texto e organizá-las em uma tabela."
   ]
  },
  {
   "cell_type": "markdown",
   "metadata": {},
   "source": [
    "#### Modelar o jogo\n",
    "1- Realce as palavras-chave importantes do texto abaixo, colocando-as em negrito ou itálico.\n",
    "\n",
    "2- Em seguida, crie uma tabela com as colunas Phase, Actor, Behavior e Data. Organize as palavras realçadas onde você acha que elas devem ser colocadas. (vide pdf)"
   ]
  },
  {
   "cell_type": "markdown",
   "metadata": {},
   "source": [
    "#### Criar classes e estado\n",
    "A tabela anterior informa a história de como o jogo progride por diferentes fases. Ao se concentrar nas duas colunas Behavior e Data, você pode realizar scaffold de algum código inicial como base para criação do jogo."
   ]
  },
  {
   "cell_type": "code",
   "execution_count": null,
   "metadata": {},
   "outputs": [],
   "source": [
    "class Participant:\n",
    "    def __init__(self):\n",
    "        self.points = 0\n",
    "        self.choice = \"\"\n",
    "\n",
    "class GameRound:\n",
    "\n",
    "class Game:\n",
    "    def __init__(self):\n",
    "        self.endGame = False\n",
    "        self.participant = Participant()\n",
    "        self.secondPartipant = Participant()"
   ]
  }
 ],
 "metadata": {
  "kernelspec": {
   "display_name": "Python 3",
   "language": "python",
   "name": "python3"
  },
  "language_info": {
   "codemirror_mode": {
    "name": "ipython",
    "version": 3
   },
   "file_extension": ".py",
   "mimetype": "text/x-python",
   "name": "python",
   "nbconvert_exporter": "python",
   "pygments_lexer": "ipython3",
   "version": "3.10.11"
  }
 },
 "nbformat": 4,
 "nbformat_minor": 2
}
