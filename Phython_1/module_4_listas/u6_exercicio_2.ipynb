{
 "cells": [
  {
   "cell_type": "markdown",
   "metadata": {},
   "source": [
    "### Use slices to retrieve portions of a list ###"
   ]
  },
  {
   "cell_type": "code",
   "execution_count": 7,
   "metadata": {},
   "outputs": [],
   "source": [
    "planets = [\"Mercury\", \"Venus\", \"Erath\", \"Mars\", \"Jupter\", \"Saturn\", \"Uranus\", \"Neptune\"]"
   ]
  },
  {
   "cell_type": "markdown",
   "metadata": {},
   "source": [
    "### Prompt the user for the reference planet ###\n",
    "Next you will add the code to prompt the user for the name of a planet. You will do this by using input. Because strings are case sensitive in Python, ask the user to use a capital letter to start the name of the planet."
   ]
  },
  {
   "cell_type": "code",
   "execution_count": 8,
   "metadata": {},
   "outputs": [],
   "source": [
    "user_planet = input(\"Please enter the name of the planet (with a capital letter to start)\")"
   ]
  },
  {
   "cell_type": "code",
   "execution_count": 11,
   "metadata": {},
   "outputs": [
    {
     "name": "stdout",
     "output_type": "stream",
     "text": [
      "['Mercury', 'Venus', 'Erath', 'Mars', 'Jupter', 'Saturn', 'Uranus', 'Neptune']\n",
      "Mars\n"
     ]
    }
   ],
   "source": [
    "print(planets)\n",
    "\n",
    "print(user_planet)"
   ]
  },
  {
   "cell_type": "markdown",
   "metadata": {},
   "source": [
    "### Find the location of the selected planet ###\n",
    "Now it's time to determine which planets are closer than the one that the user entered. To do this, you need to find where he planet is in the list. You can use the index method to perform this operation. Add the code to find the index of the planet, and store it in a variable named planet_index."
   ]
  },
  {
   "cell_type": "code",
   "execution_count": 10,
   "metadata": {},
   "outputs": [],
   "source": [
    "planet_index = planets.index(user_planet)"
   ]
  },
  {
   "cell_type": "markdown",
   "metadata": {},
   "source": [
    "### Display planets closer to the sun ###\n",
    "With the index determined, you can now add the code to display planets closer to the sun than the one selected. Use the slicing abilities of a list to display all planets up to the one selected."
   ]
  },
  {
   "cell_type": "code",
   "execution_count": 14,
   "metadata": {},
   "outputs": [
    {
     "name": "stdout",
     "output_type": "stream",
     "text": [
      "Here are the planats closer than Mars\n",
      "['Mercury', 'Venus', 'Erath']\n"
     ]
    }
   ],
   "source": [
    "print(\"Here are the planats closer than \" + user_planet)\n",
    "\n",
    "print(planets[0:planet_index])"
   ]
  },
  {
   "cell_type": "markdown",
   "metadata": {},
   "source": [
    "### Display planets further ###\n",
    "You can use the same index to display planets farther from the sun. However, remember that the starting index is included when you're using a slice. As a result, you'll have to add 1 to the value. Add the code to display the planets farther from the sun"
   ]
  },
  {
   "cell_type": "code",
   "execution_count": 15,
   "metadata": {},
   "outputs": [
    {
     "name": "stdout",
     "output_type": "stream",
     "text": [
      "Here are the planets farther than Mars\n",
      "['Jupter', 'Saturn', 'Uranus', 'Neptune']\n"
     ]
    }
   ],
   "source": [
    "print(\"Here are the planets farther than \" + user_planet)\n",
    "\n",
    "print(planets[planet_index +1:])"
   ]
  }
 ],
 "metadata": {
  "kernelspec": {
   "display_name": "Python 3",
   "language": "python",
   "name": "python3"
  },
  "language_info": {
   "name": "python",
   "version": "undefined.undefined.undefined"
  }
 },
 "nbformat": 4,
 "nbformat_minor": 2
}
