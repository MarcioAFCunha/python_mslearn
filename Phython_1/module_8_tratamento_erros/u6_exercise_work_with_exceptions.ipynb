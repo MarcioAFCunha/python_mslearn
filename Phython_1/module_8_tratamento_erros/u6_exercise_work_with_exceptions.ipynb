{
  "cells": [
    {
      "attachments": {},
      "cell_type": "markdown",
      "source": [
        "# Exercise: Raise exceptions\n",
        "\n",
        "Exceptions allow a few patterns when they're used effectively. In this exercise, you'll ignore certain exceptions and fix problems where exceptions weren't used. Finally, you'll make a multiple-function program work better by handling exceptions and making decisions based on errors.\n",
        "\n",
        "This exercise is broken into a series of steps. For each step you will be presented with the goal for the step, followed by an empty cell. Enter your Python into the cell and run it. The solution for each step will follow each cell.\n",
        "\n",
        "## Creating a utility to convert strings to boolean values\n",
        "\n",
        "Imagine you are creating a program which will prompt the user for yes or no, which will be converted true or false. Because people will enter different values, you need to ensure the different possibilities are handled correctly. If an unknown response is given, the program should raise an error.\n",
        "\n",
        "For purposes of this exercise, you'll use the values below for true and false. Run the cell to load the variables."
      ],
      "metadata": {}
    },
    {
      "cell_type": "code",
      "source": [
        "true_values = ['yes', 'y']\n",
        "false_values = ['no', 'n']"
      ],
      "outputs": [],
      "execution_count": 1,
      "metadata": {}
    },
    {
      "attachments": {},
      "cell_type": "markdown",
      "source": [
        "## Create the function to test for true or false\n",
        "\n",
        "You will use `true_values` and `false_values` to create a function named `str_to_bool` to convert strings to Boolean values. `str_to_bool` will accept one parameter named `value`.\n",
        "\n",
        "Create the function `str_to_bool`. Convert `value` to lower case letters. If `value` matches an entry in `true_values` the function should return `True`. If `value` matches an entry in `false_values` it should return `False`. If it doesn't match any of the values, it should raise a `ValueError`, with a message of **Invalid entry**."
      ],
      "metadata": {}
    },
    {
      "cell_type": "code",
      "source": [
        "# Enter code below\n",
        "def str_to_bool(value):\n",
        "    value = value.lower()\n",
        "    if value in true_values:\n",
        "        return True\n",
        "    elif value in false_values:\n",
        "        return False\n",
        "    else:\n",
        "        raise ValueError('Invalid entry')"
      ],
      "outputs": [],
      "execution_count": 2,
      "metadata": {}
    },
    {
      "attachments": {},
      "cell_type": "markdown",
      "source": [
        "Your code should resemble the following:\n",
        "\n",
        "```python\n",
        "def str_to_bool(value):\n",
        "    value = value.lower()\n",
        "    if value in true_values:\n",
        "        return True\n",
        "    elif value in false_values:\n",
        "        return False\n",
        "    else:\n",
        "        raise ValueError('Invalid entry')\n",
        "```\n",
        "\n",
        "## Desired output\n",
        "\n",
        "In the cell below, call `str_to_bool` with different values. When you use **y** or **yes** it should display `True`. When you use **n** or **no** it should display `False`. For any other value an error should be raised."
      ],
      "metadata": {}
    },
    {
      "cell_type": "code",
      "source": [
        "# Test function here\n",
        "str_to_bool(\"y\")"
      ],
      "outputs": [
        {
          "output_type": "execute_result",
          "execution_count": 3,
          "data": {
            "text/plain": "True"
          },
          "metadata": {}
        }
      ],
      "execution_count": 3,
      "metadata": {}
    },
    {
      "attachments": {},
      "cell_type": "markdown",
      "source": [
        "\n",
        "Your code could resemble the following:\n",
        "\n",
        "```python\n",
        "str_to_bool(\"y\")\n",
        "```"
      ],
      "metadata": {}
    }
  ],
  "metadata": {
    "interpreter": {
      "hash": "205095b8b86ea82a021a8fc2ffba2b3bc9f8d0be25999901963b225939f75778"
    },
    "kernelspec": {
      "name": "conda-env-py38_default-py",
      "language": "python",
      "display_name": "py38_default"
    },
    "language_info": {
      "name": "python",
      "version": "3.8.13",
      "mimetype": "text/x-python",
      "codemirror_mode": {
        "name": "ipython",
        "version": 3
      },
      "pygments_lexer": "ipython3",
      "nbconvert_exporter": "python",
      "file_extension": ".py"
    },
    "orig_nbformat": 4,
    "kernel_info": {
      "name": "conda-env-py38_default-py"
    },
    "nteract": {
      "version": "nteract-front-end@1.0.0"
    }
  },
  "nbformat": 4,
  "nbformat_minor": 2
}