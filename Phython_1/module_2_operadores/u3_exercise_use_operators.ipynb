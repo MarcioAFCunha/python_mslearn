{
  "cells": [
    {
      "cell_type": "markdown",
      "source": [
        "# Arithmetic operators in Python\n",
        "\n",
        "Python provides common arithmetic operators so you can perform mathematic operations in your code. These include the four core operations of addition, subtraction, multiplication, and division.\n",
        "\n",
        "Let's explore how we can create a program that can calculate the distance between two planets. We'll start by using two planet distances: Earth (149,597,870 km) and Jupiter (778,547,200 km).\n",
        "\n",
        "This exercise is broken into a series of steps. For each step you will be presented with the goal for the step, followed by an empty cell. Enter your Python into the cell and run it. The solution for each step will follow each cell.\n",
        "\n",
        "**Note:** Remove the commas when you're using the values.\n",
        "\n",
        "## Create variables to store the distances\n",
        "\n",
        "Start by creating two variables named `first_planet` and `second_planet`. Set `first_planet` to the distance from the sun to Earth, and `second_planet` for the distance from the sun to Jupiter."
      ],
      "metadata": {}
    },
    {
      "cell_type": "code",
      "source": [
        "# Enter code below"
      ],
      "outputs": [],
      "execution_count": null,
      "metadata": {}
    },
    {
      "cell_type": "markdown",
      "source": [
        "You code should resemble the following:\n",
        "\n",
        "```python\n",
        "first_planet = 149597870\n",
        "second_planet = 778547200\n",
        "```"
      ],
      "metadata": {}
    },
    {
      "cell_type": "markdown",
      "source": [
        "## Display distance between planets\n",
        "\n",
        "You have two variables which store the distance between each planet and a common point: the sun. You can subtract these two values to determine the distance between the planets.\n",
        "\n",
        "Start by adding the code to subtract `first_planet` from `second_planet` and store the result in a variable named `distance_km`. Display the value to the screen.\n",
        "\n",
        "Then add the code to convert `distance_km` to miles by dividing it by 1.609344 (the rough difference between miles and kilometers) and store the result in a variable named `distance_mi`. Display the value to the screen."
      ],
      "metadata": {}
    },
    {
      "cell_type": "code",
      "source": [
        "# Enter code below"
      ],
      "outputs": [],
      "execution_count": null,
      "metadata": {}
    },
    {
      "cell_type": "markdown",
      "source": [
        "Your code should resemble the following:\n",
        "\n",
        "```python\n",
        "distance_km = second_planet - first_planet\n",
        "print(distance_km)\n",
        "\n",
        "distance_mi = distance_km / 1.609344\n",
        "print(distance_mi)\n",
        "```\n",
        "\n",
        "## Desired output\n",
        "\n",
        "The final result displayed when you run the notebook should be the following:\n",
        "\n",
        "```\n",
        "628949330\n",
        "390810995.0389724\n",
        "```"
      ],
      "metadata": {}
    }
  ],
  "metadata": {
    "interpreter": {
      "hash": "916dbcbb3f70747c44a77c7bcd40155683ae19c65e1c03b4aa3499c5328201f1"
    },
    "kernel_info": {
      "name": "conda-env-py38_default-py"
    },
    "kernelspec": {
      "display_name": "py38_default",
      "language": "python",
      "name": "conda-env-py38_default-py"
    },
    "language_info": {
      "codemirror_mode": {
        "name": "ipython",
        "version": 3
      },
      "file_extension": ".py",
      "mimetype": "text/x-python",
      "name": "python",
      "nbconvert_exporter": "python",
      "pygments_lexer": "ipython3",
      "version": "3.8.10"
    },
    "orig_nbformat": 4,
    "nteract": {
      "version": "nteract-front-end@1.0.0"
    }
  },
  "nbformat": 4,
  "nbformat_minor": 2
}