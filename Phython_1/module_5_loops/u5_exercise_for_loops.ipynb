{
  "cells": [
    {
      "attachments": {},
      "cell_type": "markdown",
      "source": [
        "# Exercise - Loop over a list\n",
        "\n",
        "In the previous exercise, you created code to prompt users to enter a list of planet names. In this exercise, you'll complete the application by writing code that displays the planet names one by one.\n",
        "\n",
        "This exercise is broken into a series of steps. For each step you will be presented with the goal for the step, followed by an empty cell. Enter your Python into the cell and run it. The solution for each step will follow each cell.\n",
        "\n",
        "The first cell contains the code from the prior exercise, without the `print` statement. Run the cell and provide a list of planets. (Enter a planet name and select \"Submit\". For each new entry, overtype the previous entry and select \"Submit\".)"
      ],
      "metadata": {}
    },
    {
      "cell_type": "code",
      "source": [
        "# Run this cell and provide a list of planets\n",
        "\n",
        "new_planet = ''\n",
        "planets = []\n",
        "\n",
        "while new_planet.lower() != 'done':\n",
        "    if new_planet:\n",
        "        planets.append(new_planet)\n",
        "    new_planet = input('Enter a new planet or done if done')"
      ],
      "outputs": [],
      "execution_count": 1,
      "metadata": {
        "tags": [
          "remove_cell"
        ]
      }
    },
    {
      "attachments": {},
      "cell_type": "markdown",
      "source": [
        "## Display the list of planets\n",
        "\n",
        "The `planets` variable stores the planet names that a user entered. You'll now use a `for` loop to display those entries.\n",
        "\n",
        "Create a `for` loop to iterate over the `planets` name list. You can use `planet` as the name of the variable for each planet. Inside the `for` loop, use `print` to display each `planet` name."
      ],
      "metadata": {}
    },
    {
      "cell_type": "code",
      "source": [
        "# Enter code below\n",
        "for planet in planets:\n",
        "    print(planet)"
      ],
      "outputs": [
        {
          "output_type": "stream",
          "name": "stdout",
          "text": "Mercury\nVenus\nEarth\nMars\nJupter\n"
        }
      ],
      "execution_count": 2,
      "metadata": {}
    },
    {
      "attachments": {},
      "cell_type": "markdown",
      "source": [
        "Your code should look like this:\n",
        "\n",
        "```python\n",
        "for planet in planets:\n",
        "    print(planet)\n",
        "```\n",
        "\n",
        "## Desired output\n",
        "\n",
        "When you run the notebook you will be asked for a list of planets. After you enter **done** you should see a list of planets displayed on separate lines."
      ],
      "metadata": {}
    }
  ],
  "metadata": {
    "kernelspec": {
      "name": "conda-env-py38_default-py",
      "language": "python",
      "display_name": "py38_default"
    },
    "language_info": {
      "name": "python",
      "version": "3.8.13",
      "mimetype": "text/x-python",
      "codemirror_mode": {
        "name": "ipython",
        "version": 3
      },
      "pygments_lexer": "ipython3",
      "nbconvert_exporter": "python",
      "file_extension": ".py"
    },
    "vscode": {
      "interpreter": {
        "hash": "2a35a5d7a1695c145f6d485f5528d9f0e062df43578e4fcb0dcb8fc15dd48b38"
      }
    },
    "kernel_info": {
      "name": "conda-env-py38_default-py"
    },
    "nteract": {
      "version": "nteract-front-end@1.0.0"
    }
  },
  "nbformat": 4,
  "nbformat_minor": 4
}